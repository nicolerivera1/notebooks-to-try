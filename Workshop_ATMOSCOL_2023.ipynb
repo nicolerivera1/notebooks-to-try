{
 "cells": [
  {
   "cell_type": "markdown",
   "id": "299770f2-587f-4763-b964-ea451a47fdf5",
   "metadata": {},
   "source": [
    "The structure of the cookbook: https://projectpythia.org/cmip6-cookbook/README.html"
   ]
  },
  {
   "cell_type": "code",
   "execution_count": null,
   "id": "5c75d22b-138c-400b-9ebe-9c401a5ff36e",
   "metadata": {},
   "outputs": [],
   "source": []
  },
  {
   "cell_type": "code",
   "execution_count": null,
   "id": "4cff0908-46d2-4c89-a8f4-e21df29949f8",
   "metadata": {},
   "outputs": [],
   "source": []
  },
  {
   "cell_type": "code",
   "execution_count": null,
   "id": "de84149c-9c70-456d-a48c-e53c229650b3",
   "metadata": {},
   "outputs": [],
   "source": []
  },
  {
   "cell_type": "code",
   "execution_count": null,
   "id": "76116bf7-67fb-4cac-b34f-4cc6edfcb5fc",
   "metadata": {},
   "outputs": [],
   "source": []
  },
  {
   "cell_type": "code",
   "execution_count": null,
   "id": "605cca81-f2f8-4f54-a2dc-1b3d87ddb40e",
   "metadata": {},
   "outputs": [],
   "source": []
  }
 ],
 "metadata": {
  "kernelspec": {
   "display_name": "Python 3 (ipykernel)",
   "language": "python",
   "name": "python3"
  },
  "language_info": {
   "codemirror_mode": {
    "name": "ipython",
    "version": 3
   },
   "file_extension": ".py",
   "mimetype": "text/x-python",
   "name": "python",
   "nbconvert_exporter": "python",
   "pygments_lexer": "ipython3",
   "version": "3.8.17"
  }
 },
 "nbformat": 4,
 "nbformat_minor": 5
}
